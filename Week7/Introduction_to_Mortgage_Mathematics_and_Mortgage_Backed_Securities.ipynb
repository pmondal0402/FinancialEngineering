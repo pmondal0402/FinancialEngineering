{
  "nbformat": 4,
  "nbformat_minor": 0,
  "metadata": {
    "colab": {
      "name": " Introduction to Mortgage Mathematics and Mortgage-Backed Securities.ipynb",
      "provenance": [],
      "collapsed_sections": []
    },
    "kernelspec": {
      "name": "python3",
      "display_name": "Python 3"
    }
  },
  "cells": [
    {
      "cell_type": "code",
      "metadata": {
        "id": "sBqqpiR7r9Nq",
        "outputId": "aa0cad61-ec08-494d-faed-21f4d7cba55c",
        "colab": {
          "base_uri": "https://localhost:8080/",
          "height": 53
        }
      },
      "source": [
        "# Week 7\n",
        "\"\"\"\n",
        "In each of the following questions monthly mortgage coupon rates should be\n",
        "calculated by simply dividing the annual rate by 12. You should also assume \n",
        "that all of the securities pay monthly. You should also divide annual interest \n",
        "rates by 12 to get the corresponding monthly rate and assume monthly compounding\n",
        "when computing present values.\n",
        "\"\"\""
      ],
      "execution_count": 26,
      "outputs": [
        {
          "output_type": "execute_result",
          "data": {
            "application/vnd.google.colaboratory.intrinsic+json": {
              "type": "string"
            },
            "text/plain": [
              "'\\nIn each of the following questions monthly mortgage coupon rates should be\\ncalculated by simply dividing the annual rate by 12. You should also assume \\nthat all of the securities pay monthly. You should also divide annual interest \\nrates by 12 to get the corresponding monthly rate and assume monthly compounding\\nwhen computing present values.\\n'"
            ]
          },
          "metadata": {
            "tags": []
          },
          "execution_count": 26
        }
      ]
    },
    {
      "cell_type": "code",
      "metadata": {
        "id": "77i__6I5sWW0"
      },
      "source": [
        "class LevelPaymentMortgage():\n",
        "  def __init__(self, M0, yR, nY):\n",
        "    self.mR = yR/12\n",
        "    self.nM = nY*12\n",
        "    self.M0 = M0\n",
        "    print(self.mR, self.nM, self.M0)\n",
        "\n",
        "\n",
        "  def monthlyPayment(self):\n",
        "    \"\"\"Returns monthly payment B using Eq. 3 \"\"\"\n",
        "    # return self.M0*self.mR /(1 - (1 + self.mR)**(-self.nM))\n",
        "    return self.M0*self.mR/(1.-(1.+self.mR)**(-self.nM))"
      ],
      "execution_count": 23,
      "outputs": []
    },
    {
      "cell_type": "code",
      "metadata": {
        "id": "4fwF-YBUtZa9",
        "outputId": "c792a92a-5551-4dce-8fde-c9f59b1e234e",
        "colab": {
          "base_uri": "https://localhost:8080/"
        }
      },
      "source": [
        "# Q1.\n",
        "r_annual = 5/100\n",
        "principal = 400000\n",
        "n_year = 30\n",
        "B = LevelPaymentMortgage(principal, r_annual, n_year)\n",
        "B.monthlyPayment()\n",
        "# print(B.monthlyPayment())"
      ],
      "execution_count": 24,
      "outputs": [
        {
          "output_type": "stream",
          "text": [
            "0.004166666666666667 360 400000\n"
          ],
          "name": "stdout"
        },
        {
          "output_type": "execute_result",
          "data": {
            "text/plain": [
              "2147.2864920485595"
            ]
          },
          "metadata": {
            "tags": []
          },
          "execution_count": 24
        }
      ]
    },
    {
      "cell_type": "code",
      "metadata": {
        "id": "HhDaiVRauEJR"
      },
      "source": [
        ""
      ],
      "execution_count": null,
      "outputs": []
    },
    {
      "cell_type": "code",
      "metadata": {
        "id": "Dj0wcf0518wR"
      },
      "source": [
        "class PassThroughMBS():\n",
        "  def __init__(self, pM0, sM, nY, cY, ptY, preMult):\n",
        "    cM = cY/12\n",
        "    nM = nY*12\n",
        "    ptM = ptY/12\n",
        "    remainingM = pM0\n",
        "    poolAgeInMonths = sM + 1\n",
        "\n",
        "    self.monthlyPaymentList = []\n",
        "    self.monthlyInterestPaidByMortgageHoldersList = []\n",
        "    self.monthlyInterestPaidToInvestorsList = []\n",
        "    self.monthlyPrincipalRepaymentList = []\n",
        "    self.annualPrepaymentRateList = []\n",
        "    self.monthlyPrepaymentList = []\n",
        "    self.monthlyPrincipalPaymentList = []\n",
        "    self.remainingMList = []\n",
        "\n",
        "    while remainingM > 0.01:\n",
        "      monthlyPayment = remainingM*cM/(1 - (1 + cM)**(-(nM - poolAgeInMonths + 1)))\n",
        "      monthlyInterestPaidByMortgageHolders = cM*remainingM\n",
        "      monthlyInterestPaidToInvestors = ptM*remainingM\n",
        "      monthlyPrincipalRepayment = monthlyPayment - monthlyInterestPaidByMortgageHolders\n",
        "\n",
        "      # PSA \n",
        "      if poolAgeInMonths > 30 :\n",
        "         annualPrepaymentRate = 0.06*preMult\n",
        "      else:\n",
        "         annualPrepaymentRate = 0.06*poolAgeInMonths/30*preMult\n",
        "      monthlyPrepayment = (remainingM - monthlyPrincipalRepayment)*(\n",
        "                                     1.-(1.-annualPrepaymentRate)**(1./12.))\n",
        "      monthlyPrincipalPayment = monthlyPrincipalRepayment + monthlyPrepayment\n",
        "      remainingM -= monthlyPrincipalPayment\n",
        "      poolAgeInMonths +=1\n",
        "\n",
        "      self.monthlyPaymentList.append(monthlyPayment)\n",
        "      self.monthlyInterestPaidByMortgageHoldersList.append(monthlyInterestPaidByMortgageHolders)\n",
        "      self.monthlyInterestPaidToInvestorsList.append(monthlyInterestPaidToInvestors)\n",
        "      self.monthlyPrincipalRepaymentList.append(monthlyPrincipalRepayment)\n",
        "      self.annualPrepaymentRateList.append(annualPrepaymentRate)\n",
        "      self.monthlyPrepaymentList.append(monthlyPrepayment)\n",
        "      self.monthlyPrincipalPaymentList.append(monthlyPrincipalPayment)\n",
        "      self.remainingMList.append(remainingM)"
      ],
      "execution_count": 55,
      "outputs": []
    },
    {
      "cell_type": "code",
      "metadata": {
        "id": "2F0DNgd0vFAC",
        "outputId": "1291b3b9-d518-479c-aa45-38aedbf4c4d3",
        "colab": {
          "base_uri": "https://localhost:8080/"
        }
      },
      "source": [
        "# Q2\n",
        "poolPrincipal = 400 # Million\n",
        "seasoningMonths = 0 # Don't understand\n",
        "loanTermYears = 20\n",
        "annualCouponRate = 6/100\n",
        "passThroughRate = 5/100\n",
        "prepaymentMultiplier = 1 # PSA definition , CPR, considers 100 PSA\n",
        "\n",
        "MBS_interest = PassThroughMBS(poolPrincipal, seasoningMonths, loanTermYears,\n",
        "                              annualCouponRate, passThroughRate, \n",
        "                              prepaymentMultiplier)\n",
        "print(sum(MBS_interest.monthlyInterestPaidToInvestorsList))\n",
        "\n"
      ],
      "execution_count": 56,
      "outputs": [
        {
          "output_type": "stream",
          "text": [
            "171.17626793666105\n"
          ],
          "name": "stdout"
        }
      ]
    },
    {
      "cell_type": "code",
      "metadata": {
        "id": "lhHacMuVvFbf"
      },
      "source": [
        ""
      ],
      "execution_count": 25,
      "outputs": []
    },
    {
      "cell_type": "code",
      "metadata": {
        "id": "IWJlFurEvKMw",
        "outputId": "5f294636-cb88-46bd-d887-395850c26b85",
        "colab": {
          "base_uri": "https://localhost:8080/"
        }
      },
      "source": [
        "# Q3 \n",
        "print(sum(MBS_interest.monthlyPrepaymentList))"
      ],
      "execution_count": 58,
      "outputs": [
        {
          "output_type": "stream",
          "text": [
            "181.0909229122059\n"
          ],
          "name": "stdout"
        }
      ]
    },
    {
      "cell_type": "code",
      "metadata": {
        "id": "aYMm7sVI-D_h"
      },
      "source": [
        ""
      ],
      "execution_count": null,
      "outputs": []
    },
    {
      "cell_type": "code",
      "metadata": {
        "id": "-FvfubPF-VHp",
        "outputId": "dd74cf38-e8cc-4bdc-fbce-706717e7a267",
        "colab": {
          "base_uri": "https://localhost:8080/"
        }
      },
      "source": [
        "# Q4 \n",
        "# what is the total amount of the prepayments if the rate of prepayments \n",
        "# increases to 200 PSA? \n",
        "prepaymentMultiplier = 2\n",
        "MBS_interest = PassThroughMBS(poolPrincipal, seasoningMonths, loanTermYears,\n",
        "                              annualCouponRate, passThroughRate, \n",
        "                              prepaymentMultiplier)\n",
        "print(sum(MBS_interest.monthlyPrepaymentList))\n"
      ],
      "execution_count": 59,
      "outputs": [
        {
          "output_type": "stream",
          "text": [
            "268.15013083265126\n",
            "\n"
          ],
          "name": "stdout"
        }
      ]
    },
    {
      "cell_type": "code",
      "metadata": {
        "id": "u-Ypw2D8-yXZ"
      },
      "source": [
        ""
      ],
      "execution_count": null,
      "outputs": []
    },
    {
      "cell_type": "code",
      "metadata": {
        "id": "htoLh4W3_Plj",
        "outputId": "be759bf9-1cca-4265-b2c4-12b7eab39b16",
        "colab": {
          "base_uri": "https://localhost:8080/"
        }
      },
      "source": [
        "# Q5\n",
        "prepaymentMultiplier = 1\n",
        "MBS_interest = PassThroughMBS(poolPrincipal, seasoningMonths, loanTermYears,\n",
        "                              annualCouponRate, passThroughRate, \n",
        "                              prepaymentMultiplier)\n",
        "annualRiskFreeRate = 0.045\n",
        "PV  = 0 # Present value\n",
        "k = 1\n",
        "for payment in MBS_interest.monthlyPrincipalPaymentList:\n",
        "  PV +=payment/(1 + annualRiskFreeRate/12)**k\n",
        "  k +=1\n",
        "print(PV)"
      ],
      "execution_count": 64,
      "outputs": [
        {
          "output_type": "stream",
          "text": [
            "280.0950076451088\n"
          ],
          "name": "stdout"
        }
      ]
    },
    {
      "cell_type": "code",
      "metadata": {
        "id": "7xYA8Jed_uzN"
      },
      "source": [
        ""
      ],
      "execution_count": 64,
      "outputs": []
    },
    {
      "cell_type": "code",
      "metadata": {
        "id": "iCQ38Gnh_5XA",
        "outputId": "c935e697-5985-40b7-bb7d-520f1ad0b1d5",
        "colab": {
          "base_uri": "https://localhost:8080/"
        }
      },
      "source": [
        "# Q6\n",
        "PV = 0\n",
        "k = 1\n",
        "for payment in MBS_interest.monthlyInterestPaidToInvestorsList:\n",
        "  PV += payment/(1 + annualRiskFreeRate/12)**k\n",
        "  k +=1\n",
        "\n",
        "print(PV)"
      ],
      "execution_count": 65,
      "outputs": [
        {
          "output_type": "stream",
          "text": [
            "133.22776928321528\n"
          ],
          "name": "stdout"
        }
      ]
    },
    {
      "cell_type": "code",
      "metadata": {
        "id": "i69_SyfyAxXw"
      },
      "source": [
        ""
      ],
      "execution_count": null,
      "outputs": []
    },
    {
      "cell_type": "code",
      "metadata": {
        "id": "q1ieeTbPBbA-",
        "outputId": "173ae874-181f-4447-df44-d761771b72dc",
        "colab": {
          "base_uri": "https://localhost:8080/"
        }
      },
      "source": [
        "# Q7\n",
        "avgLifeInYears = 0\n",
        "k = 1\n",
        "interestPayments = MBS_interest.monthlyInterestPaidToInvestorsList\n",
        "totalInterst = sum(interestPayments)\n",
        "for payment in interestPayments:\n",
        "  avgLifeInYears +=k*payment/(12*totalInterst)\n",
        "  k +=1\n",
        "\n",
        "print(avgLifeInYears)"
      ],
      "execution_count": 66,
      "outputs": [
        {
          "output_type": "stream",
          "text": [
            "6.007671988639568\n"
          ],
          "name": "stdout"
        }
      ]
    },
    {
      "cell_type": "code",
      "metadata": {
        "id": "6BJcaiB0CFxu"
      },
      "source": [
        ""
      ],
      "execution_count": null,
      "outputs": []
    },
    {
      "cell_type": "code",
      "metadata": {
        "id": "SEBWEwRgCe7i",
        "outputId": "019e4612-7a31-45e7-99a8-13b1bf2011cd",
        "colab": {
          "base_uri": "https://localhost:8080/"
        }
      },
      "source": [
        "# Q8\n",
        "annualRiskFreeRate = 0.035\n",
        "PV35 = 0\n",
        "k = 1\n",
        "for payment in MBS_interest.monthlyInterestPaidToInvestorsList:\n",
        "  PV35 +=payment/(1 + annualRiskFreeRate/12)**k\n",
        "  k +=1\n",
        "print('The present value gain due to decrease in risk free rate\\n', PV35 - PV)"
      ],
      "execution_count": 68,
      "outputs": [
        {
          "output_type": "stream",
          "text": [
            "The present value gain due to decrease in risk free rate\n",
            " 7.172361899577766\n"
          ],
          "name": "stdout"
        }
      ]
    },
    {
      "cell_type": "code",
      "metadata": {
        "id": "zT7QhbOjC02h"
      },
      "source": [
        ""
      ],
      "execution_count": null,
      "outputs": []
    },
    {
      "cell_type": "code",
      "metadata": {
        "id": "ndXikw80DJxn",
        "outputId": "30eb5349-d76d-45c0-b1ed-6e3d7f98a060",
        "colab": {
          "base_uri": "https://localhost:8080/"
        }
      },
      "source": [
        "# Q9\n",
        "prepaymentMultiplier = 1.5\n",
        "MBS_interest = PassThroughMBS(poolPrincipal, seasoningMonths, loanTermYears,\n",
        "                              annualCouponRate, passThroughRate, \n",
        "                              prepaymentMultiplier)\n",
        "\n",
        "PV35_psaup = 0\n",
        "k = 1\n",
        "for payment in MBS_interest.monthlyInterestPaidToInvestorsList:\n",
        "  PV35_psaup +=payment/(1 + annualRiskFreeRate/12)**k\n",
        "  k +=1\n",
        "\n",
        "print('Present value gain due to the changes\\n', PV35_psaup - PV)\n"
      ],
      "execution_count": 70,
      "outputs": [
        {
          "output_type": "stream",
          "text": [
            "Present value gain due to the changes\n",
            " -9.578348060319783\n"
          ],
          "name": "stdout"
        }
      ]
    },
    {
      "cell_type": "code",
      "metadata": {
        "id": "E18Sz8LGDxqC"
      },
      "source": [
        ""
      ],
      "execution_count": null,
      "outputs": []
    }
  ]
}