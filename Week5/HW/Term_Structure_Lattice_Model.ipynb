{
  "nbformat": 4,
  "nbformat_minor": 0,
  "metadata": {
    "colab": {
      "name": "Term-Structure-Lattice-Model.ipynb",
      "provenance": [],
      "collapsed_sections": []
    },
    "kernelspec": {
      "name": "python3",
      "display_name": "Python 3"
    }
  },
  "cells": [
    {
      "cell_type": "code",
      "metadata": {
        "id": "ktgGkU8MAoSF"
      },
      "source": [
        "# Week 5 \n",
        "# Author : P. Mondal\n",
        "# Date : Oct 20, 2020"
      ],
      "execution_count": 25,
      "outputs": []
    },
    {
      "cell_type": "code",
      "metadata": {
        "id": "wyihxYjgE5HV"
      },
      "source": [
        "import numpy as np"
      ],
      "execution_count": 1,
      "outputs": []
    },
    {
      "cell_type": "code",
      "metadata": {
        "id": "7Y4cwa8zA0u6"
      },
      "source": [
        "# Function to get short rate tree\n",
        "def ShortRateTree(r00, qu, qd, n):\n",
        "    shortRtree = np.zeros((n+1, n+1))\n",
        "    \n",
        "    # Setting r00 at i = 0 and j = 0\n",
        "    shortRtree[0, 0] = r00\n",
        "    for i in range(1, n+1):\n",
        "      shortRtree[i, 0] = qd*shortRtree[i-1, 0] # ???? the code sol used qu \n",
        "      for j in range(1, n+1):\n",
        "        shortRtree[i, j] = qu*shortRtree[i-1, j-1]\n",
        "    return shortRtree\n",
        "\n"
      ],
      "execution_count": 2,
      "outputs": []
    },
    {
      "cell_type": "code",
      "metadata": {
        "id": "h3bjoXntEitL",
        "outputId": "35d2ba78-c318-4690-e014-4827d0874f6c",
        "colab": {
          "base_uri": "https://localhost:8080/",
          "height": 121
        }
      },
      "source": [
        "# Reproduced shortrate tree from class slides\n",
        "test_shorttree = ShortRateTree(6, 1.25, 0.9, 5)\n",
        "print(test_shorttree)"
      ],
      "execution_count": 3,
      "outputs": [
        {
          "output_type": "stream",
          "text": [
            "[[ 6.          0.          0.          0.          0.          0.        ]\n",
            " [ 5.4         7.5         0.          0.          0.          0.        ]\n",
            " [ 4.86        6.75        9.375       0.          0.          0.        ]\n",
            " [ 4.374       6.075       8.4375     11.71875     0.          0.        ]\n",
            " [ 3.9366      5.4675      7.59375    10.546875   14.6484375   0.        ]\n",
            " [ 3.54294     4.92075     6.834375    9.4921875  13.18359375 18.31054688]]\n"
          ],
          "name": "stdout"
        }
      ]
    },
    {
      "cell_type": "code",
      "metadata": {
        "id": "XA2Tm6_aE21b"
      },
      "source": [
        "# Function to generate bond tree\n",
        "def bondtree(bondMtry, r00, F, qu, qd, n):\n",
        "  \"\"\"Generates zero coupon bond tree\"\"\"\n",
        "  q1 = q2 = 0.5 # Not sure \n",
        "  # Get shortrate tree corresponding to r00, qu, qd, n\n",
        "  shortrT = ShortRateTree(r00, qu, qd, n)\n",
        "  # print(\"shortT is\\n\", shortrT)\n",
        "\n",
        "  bondT = np.zeros((bondMtry+1, bondMtry+1))\n",
        "  # Generate bond tree : Going backward here\n",
        "  for j in range(bondMtry+1):\n",
        "    # At maturity all node states are set to facevalue\n",
        "    bondT[bondMtry, j] = F\n",
        "  # print(bondT)\n",
        "\n",
        "  for i in range(bondMtry-1, -1, -1):\n",
        "    for j in range(i+1):\n",
        "      # Each i^th time has j = i + 1 nodes\n",
        "      # print(i, j, bondT[i, j])\n",
        "      bondT[i, j] = (1/(1+shortrT[i, j]))*(q1*bondT[i+1, j+1]\n",
        "                                         + q2*bondT[i+1, j])\n",
        "  return bondT\n"
      ],
      "execution_count": 4,
      "outputs": []
    },
    {
      "cell_type": "code",
      "metadata": {
        "id": "poXGR51yJaTl"
      },
      "source": [
        "# Produced result from slide \n",
        "bondMtry = 4 # Bond maturity time\n",
        "r00 = 6/100 # spot intereat rate at i = 0, j = 0\n",
        "F = 100 # Facevalue \n",
        "qu = 1.25 # short interest rate up\n",
        "qd = 0.9 # short interest rate down\n",
        "n = 7 # number o short rate periods\n",
        "bnd_tree = bondtree(bondMtry, r00, F, qu, qd, n)"
      ],
      "execution_count": 5,
      "outputs": []
    },
    {
      "cell_type": "code",
      "metadata": {
        "id": "Sn6o31m9JtvN",
        "outputId": "62f7792c-935b-4475-928f-eab9097110f0",
        "colab": {
          "base_uri": "https://localhost:8080/",
          "height": 34
        }
      },
      "source": [
        "print(\"Zero coupon price is \", bnd_tree[0, 0])"
      ],
      "execution_count": 6,
      "outputs": [
        {
          "output_type": "stream",
          "text": [
            "Zero coupon price is  77.217740328716\n"
          ],
          "name": "stdout"
        }
      ]
    },
    {
      "cell_type": "code",
      "metadata": {
        "id": "TNDVuxy4SS7u"
      },
      "source": [
        "# American call option on the same ZCB \n",
        "def bondOpAm(r00, qu, qd, F, n, bondMtry, K, N, cp):\n",
        "  # cp : +1/-1 with regards to call/put\n",
        "\n",
        "  q1 = q2 = 0.5\n",
        "  # Short rate tree\n",
        "  shortrT = ShortRateTree(r00, qu, qd, n)\n",
        "  f = np.vectorize(lambda x:max(float(x) - float(K), 0.))\n",
        "  bond_Tr = bondtree(bondMtry, r00, F, qu, qd, n)\n",
        "\n",
        "  payoff = f(bond_Tr)\n",
        "  option_Tr = np.zeros((N+1, N+1))\n",
        "  # print(\"short tree\\n\", shortrT)\n",
        "\n",
        "  # Compute the option tree\n",
        "  flag = 0\n",
        "  list = []\n",
        "   # Pay off at t = N \n",
        "  for j in range(N+1):\n",
        "    option_Tr[N, j] = max(0, cp*(bond_Tr[N, j]-K))\n",
        "\n",
        "  for i in range(N-1, -1, -1):\n",
        "    for j in range(i+1):\n",
        "      # print('bnvv', i, j, payoff[i, j], payoff[i+1, j], payoff[i+1, j+1], q1,shortrT[i, j] )\n",
        "      option_Tr[i, j] = max((q1*option_Tr[i+1, j] + q2*option_Tr[i+1, j+1])\n",
        "                            *1/(1+shortrT[i, j]), \n",
        "                             cp*(bond_Tr[i, j]-K ))\n",
        "      \n",
        "      # Early exercise\n",
        "      if (option_Tr[i, j] - cp*(bond_Tr[i, j]-K)) < 1e-10:\n",
        "        flag +=1\n",
        "        list.append(i)\n",
        "\n",
        "  when = N\n",
        "  if flag:\n",
        "    when = list[-1]\n",
        "  # print('Option tree\\n', payoff)\n",
        "  return (option_Tr[0, 0], when)"
      ],
      "execution_count": 7,
      "outputs": []
    },
    {
      "cell_type": "code",
      "metadata": {
        "id": "QVJjX4C2THOR"
      },
      "source": [
        "def bondForwrd(N, r00, qu, qd, F, bondMtry):\n",
        "  \"\"\"Looks like is the the ratio of price of considering bond maturity \n",
        "     and derivative maturity \n",
        "  \"\"\"\n",
        "  down = bondtree(N, r00, 1, qu, qd, n)\n",
        "  up = bondtree(bondMtry, r00, F, qu, qd, n)\n",
        "  # print('down is computed correctly,', down[0, 0])\n",
        "  # print('up \\n', up)\n",
        "  \n",
        "  # print(up)\n",
        "  return up[0, 0]/down[0, 0]"
      ],
      "execution_count": 8,
      "outputs": []
    },
    {
      "cell_type": "code",
      "metadata": {
        "id": "SRaLoD7ZTT7_",
        "outputId": "ed86d8bd-f6d1-41dc-b312-84f77267998a",
        "colab": {
          "base_uri": "https://localhost:8080/",
          "height": 52
        }
      },
      "source": [
        "N_for = 4 # This is correct --> produced right down value\n",
        "bondMtry = 6 \n",
        "F = 110\n",
        "print(\"Price of Forward at t=0 :\\n\", bondForwrd(N_for, r00, qu, qd, F, bondMtry))\n",
        "# I think the slide calculated some wrong lattice points starting i = N"
      ],
      "execution_count": 9,
      "outputs": [
        {
          "output_type": "stream",
          "text": [
            "Price of Forward at t=0 :\n",
            " 94.10815111093011\n"
          ],
          "name": "stdout"
        }
      ]
    },
    {
      "cell_type": "code",
      "metadata": {
        "id": "AuJM3iF5YXi8"
      },
      "source": [
        "# GenerateBondTree(n, bondMtry, face, r00, u, d):\n",
        "# me bondtree(bondMtry, r00, F, qu, qd, n)\n",
        "\n",
        "def bondFuture(N, bondMtry, r00, F, qu, qd, n):\n",
        "  \"\"\"Computes price of future bond on ZCB\"\"\"\n",
        "  # Computte bond tree till bond maturity i.e. bondMtry\n",
        "  bond_Tr = bondtree(bondMtry, r00, F, qu, qd, n)\n",
        "\n",
        "  q1 = q2 = 0.5\n",
        "  # Compute futures tree\n",
        "  futures_Tr = np.zeros((N+1, N+1))\n",
        "  for j in range(N+1):\n",
        "    futures_Tr[N, j] = bond_Tr[N, j]\n",
        "  \n",
        "  for i in range(N-1, -1, -1):\n",
        "    for j in range(i+1):\n",
        "      futures_Tr[i, j] = q1*futures_Tr[i+1, j]\\\n",
        "                       + q2*futures_Tr[i+1, j+1]\n",
        "  print('futures price using ZCB\\n')\n",
        "  return futures_Tr[0, 0]  "
      ],
      "execution_count": 10,
      "outputs": []
    },
    {
      "cell_type": "code",
      "metadata": {
        "id": "rVT8Odm4Jjs4"
      },
      "source": [
        "# Elementary pricing\n",
        "# What is elementary ??\n",
        "def getElementary(r00, qu, qd, n, N):\n",
        "  \"\"\"Elementary pricing\"\"\"\n",
        "  shortRTr = ShortRateTree(r00, qu, qd, n)\n",
        "  elemTr = np.zeros((N+1, N+1))\n",
        "\n",
        "  elemTr[0, 0] = 1\n",
        "  for j in range(1, N+1):\n",
        "    elemTr[j, j] = 0.5/(1+shortRTr[j-1, j-1])*elemTr[j-1, j-1]\n",
        "  for i in range(1, N+1):\n",
        "    elemTr[i, 0] = 0.5/(1+shortRTr[i-1, 0])*elemTr[i-1, 0] \n",
        "  for i in range(2, N+1):\n",
        "    for j in range(1, i):\n",
        "      elemTr[i, j] = 0.5/(1+shortRTr[i-1, j])*elemTr[i-1, j] + \\\n",
        "                    0.5/(1+shortRTr[i-1, j-1])*elemTr[i-1, j-1]\n",
        "  return elemTr\n",
        "  # Note : Look up the recursive formula used here ????\n"
      ],
      "execution_count": 11,
      "outputs": []
    },
    {
      "cell_type": "code",
      "metadata": {
        "id": "o-BfvsjDV2Ea",
        "outputId": "eb5244e6-e9c2-437d-9a45-952678047e88",
        "colab": {
          "base_uri": "https://localhost:8080/",
          "height": 260
        }
      },
      "source": [
        "N_elm = 6\n",
        "print(getElementary(r00, qu, qd, n, N_elm))"
      ],
      "execution_count": null,
      "outputs": [
        {
          "output_type": "stream",
          "text": [
            "[[1.         0.         0.         0.         0.         0.\n",
            "  0.        ]\n",
            " [0.47619048 0.47619048 0.         0.         0.         0.\n",
            "  0.        ]\n",
            " [0.22784233 0.45352502 0.22568269 0.         0.         0.\n",
            "  0.        ]\n",
            " [0.10948695 0.32555413 0.32247109 0.10640391 0.         0.\n",
            "  0.        ]\n",
            " [0.05281825 0.20865288 0.30874425 0.20279191 0.04988229 0.\n",
            "  0.        ]\n",
            " [0.02557029 0.12587501 0.24746525 0.24282656 0.11890591 0.02323987\n",
            "  0.        ]\n",
            " [0.0124185  0.07316397 0.17925145 0.23370917 0.17098124 0.06653201\n",
            "  0.01075397]]\n"
          ],
          "name": "stdout"
        }
      ]
    },
    {
      "cell_type": "code",
      "metadata": {
        "id": "i_GaLd0zbZWS"
      },
      "source": [
        "def forward_equation_lattice(n,r00,u,d,q=.5):\n",
        "    tree = np.zeros((n+1,n+1))\n",
        "    tree[0][0]=1\n",
        "    rate_tree= ShortRateTree(r00, u, d, n) \n",
        "    for i in range(1,n+1):\n",
        "        tree[i][0]=1/(1+rate_tree[i-1][0])*(1-q)*tree[i-1][0]\n",
        "        tree[i][i]=1/(1+rate_tree[i-1][i-1])*q*tree[i-1][i-1]\n",
        "    for i in range(2,n+1):\n",
        "        for j in range(1,i):\n",
        "            tree[i,j]=(1-q)*1/(1+rate_tree[i-1,j])*tree[i-1,j]+q*1/(1+rate_tree[i-1,j-1])*tree[i-1,j-1]\n",
        "    return tree"
      ],
      "execution_count": 12,
      "outputs": []
    },
    {
      "cell_type": "code",
      "metadata": {
        "id": "gI5R0USKbZUo",
        "outputId": "6b6b8753-e9e9-41d7-d6d5-1ce6e20cda91",
        "colab": {
          "base_uri": "https://localhost:8080/",
          "height": 295
        }
      },
      "source": [
        "forward_equation_lattice(n,r00,qu,qd,q=.5)"
      ],
      "execution_count": 13,
      "outputs": [
        {
          "output_type": "execute_result",
          "data": {
            "text/plain": [
              "array([[1.        , 0.        , 0.        , 0.        , 0.        ,\n",
              "        0.        , 0.        , 0.        ],\n",
              "       [0.47169811, 0.47169811, 0.        , 0.        , 0.        ,\n",
              "        0.        , 0.        , 0.        ],\n",
              "       [0.22376571, 0.44316018, 0.21939447, 0.        , 0.        ,\n",
              "        0.        , 0.        , 0.        ],\n",
              "       [0.10669736, 0.31426653, 0.30786379, 0.10029462, 0.        ,\n",
              "        0.        , 0.        , 0.        ],\n",
              "       [0.051113  , 0.19924712, 0.2900886 , 0.18684158, 0.0448871 ,\n",
              "        0.        , 0.        , 0.        ],\n",
              "       [0.02458855, 0.11904756, 0.22926638, 0.21931522, 0.10408383,\n",
              "        0.01957598, 0.        , 0.        ],\n",
              "       [0.0118736 , 0.06860573, 0.16403204, 0.20745099, 0.14613117,\n",
              "        0.05425322, 0.00827313, 0.        ],\n",
              "       [0.00575335, 0.03860147, 0.11011172, 0.17282528, 0.16087741,\n",
              "        0.08860446, 0.02665486, 0.00336612]])"
            ]
          },
          "metadata": {
            "tags": []
          },
          "execution_count": 13
        }
      ]
    },
    {
      "cell_type": "code",
      "metadata": {
        "id": "03lyp0aLbZQ3"
      },
      "source": [
        "def forward_starting_swap_price(n,r00,u,d,q=.5,notional_principal = 1000000.0,fixed_rate = 0.045):\n",
        "    lattice = forward_equation_lattice(n,r00,u,d,q=.5)\n",
        "    rate_tree= ShortRateTree(r00, u, d, n)\n",
        "    s = 0 \n",
        "    for i in range(1,n+1):\n",
        "        for j in range(i+1):\n",
        "            s += -(fixed_rate - rate_tree[i][j])/(1+rate_tree[i][j])*lattice[i,j]\n",
        "    return s*notional_principal\n",
        "\n"
      ],
      "execution_count": 14,
      "outputs": []
    },
    {
      "cell_type": "code",
      "metadata": {
        "id": "bF4vdURfN2TN",
        "outputId": "bef4683c-b2fd-46c7-b758-b29916cd0f84",
        "colab": {
          "base_uri": "https://localhost:8080/",
          "height": 34
        }
      },
      "source": [
        "# --------\n",
        "# Quiz 1 :\n",
        "# --------\n",
        "bondMtry = 10\n",
        "r00 = 5/100\n",
        "F = 100 \n",
        "qu = 1.1\n",
        "qd = 0.9\n",
        "n = bondMtry + 2 # Getting shortrate tree for two more bond periods\n",
        "bnd_tree_q1 = bondtree(bondMtry, r00, F, qu, qd, n)\n",
        "print(\"Zero coupon price is \", bnd_tree_q1[0, 0])"
      ],
      "execution_count": 16,
      "outputs": [
        {
          "output_type": "stream",
          "text": [
            "Zero coupon price is  61.62195811754156\n"
          ],
          "name": "stdout"
        }
      ]
    },
    {
      "cell_type": "code",
      "metadata": {
        "id": "O4hn1Ax8dUfz",
        "outputId": "9912c338-5828-44f0-f627-0e8d80c8879b",
        "colab": {
          "base_uri": "https://localhost:8080/",
          "height": 52
        }
      },
      "source": [
        "# ------\n",
        "# Quiz 2\n",
        "# ------\n",
        "N_for = 4\n",
        "print(\"Price of Forward at t=0 :\\n\", bondForwrd(N_for, r00, qu, qd, F, \n",
        "                                                              bondMtry))"
      ],
      "execution_count": 17,
      "outputs": [
        {
          "output_type": "stream",
          "text": [
            "Price of Forward at t=0 :\n",
            " 74.88484493844841\n"
          ],
          "name": "stdout"
        }
      ]
    },
    {
      "cell_type": "code",
      "metadata": {
        "id": "I-Gv2iNpRA9R",
        "outputId": "8cc360c5-b8ff-4bc8-ff94-374e3605b962",
        "colab": {
          "base_uri": "https://localhost:8080/",
          "height": 86
        }
      },
      "source": [
        "# ------\n",
        "# Quiz 3\n",
        "# ------\n",
        "N_fut = 4\n",
        "# bondFuture(N, bondMtry, r00, F, qu, qd, n)\n",
        "print(\"Price of Forward at t=0 :\\n\", bondFuture(N_fut, bondMtry, r00, F, qu, qd, n))"
      ],
      "execution_count": 18,
      "outputs": [
        {
          "output_type": "stream",
          "text": [
            "futures price using ZCB\n",
            "\n",
            "Price of Forward at t=0 :\n",
            " 74.82458063139569\n"
          ],
          "name": "stdout"
        }
      ]
    },
    {
      "cell_type": "code",
      "metadata": {
        "id": "vaRlQX-VSKgs",
        "outputId": "ef489476-34be-4bc8-d40d-a1ff9ab52d62",
        "colab": {
          "base_uri": "https://localhost:8080/",
          "height": 34
        }
      },
      "source": [
        "# ------\n",
        "# Quiz 4\n",
        "# ------\n",
        "cp = 1 # call option\n",
        "K = 80\n",
        "N_bond = 6 \n",
        "print(\"American call option is \", bondOpAm(r00, qu, qd, F, n, bondMtry, K, N_bond, cp))\n"
      ],
      "execution_count": 19,
      "outputs": [
        {
          "output_type": "stream",
          "text": [
            "American call option is  (2.35721516382906, 6)\n"
          ],
          "name": "stdout"
        }
      ]
    },
    {
      "cell_type": "code",
      "metadata": {
        "id": "SOzddoUxSOwl",
        "outputId": "96b030ab-5762-40aa-a761-bb90cbcffe2e",
        "colab": {
          "base_uri": "https://localhost:8080/",
          "height": 34
        }
      },
      "source": [
        "# ------\n",
        "# Quiz 5\n",
        "# ------\n",
        "# TODO ????\n",
        "rf = 0.045\n",
        "start = 1\n",
        "pcp1 = 10**6\n",
        "n = 10\n",
        "rp = 1 # pay\n",
        "print(\"Swap option price is \",forward_starting_swap_price(n,r00,qu,qd,q=.5,\n",
        "                           notional_principal = 1000000.0,fixed_rate = 0.045))\n"
      ],
      "execution_count": 20,
      "outputs": [
        {
          "output_type": "stream",
          "text": [
            "Swap option price is  33374.242062163816\n"
          ],
          "name": "stdout"
        }
      ]
    },
    {
      "cell_type": "code",
      "metadata": {
        "id": "mxNZAdnfZ4Ic"
      },
      "source": [
        "def swap_price_lattice(n,r00,u,d,q=.5,notional_principal = 1000000.0,fixed_rate = 0.045):\n",
        "    rate_tree= ShortRateTree(r00, u, d, n)  # short_rate_tree(n,r00,u,d)\n",
        "    payoff = np.zeros((n+1,n+1))\n",
        "    for i in range(n+1):\n",
        "        payoff[n,i]=(rate_tree[n,i]-fixed_rate)/(1+rate_tree[n,i])\n",
        "    for i in range(n-1,-1,-1):\n",
        "        for j in range(i+1):\n",
        "            payoff[i,j]= (rate_tree[i,j]-fixed_rate+q*payoff[i+1,j+1]+(1-q)*payoff[i+1,j])/(1+rate_tree[i,j])\n",
        "    return payoff\n",
        "\n"
      ],
      "execution_count": 21,
      "outputs": []
    },
    {
      "cell_type": "code",
      "metadata": {
        "id": "W5v5bsbKQlrZ"
      },
      "source": [
        "swap_price_lattice(n,r00,qu,qd,q=.5,fixed_rate = 0.045);"
      ],
      "execution_count": 22,
      "outputs": []
    },
    {
      "cell_type": "code",
      "metadata": {
        "id": "oUbzo9M0Tp3_"
      },
      "source": [
        "def swaption_price(n,r00,u,d,q=.5,notional_principal = 1000000.0,fixed_rate = 0.045,t=5,K=0.0):\n",
        "    lattice = swap_price_lattice(n,r00,u,d,q=.5,fixed_rate = 0.045)\n",
        "    rate_tree= ShortRateTree(r00, u, d, n) # short_rate_tree(n,r00,u,d)\n",
        "    f= np.vectorize(lambda x: max(x-K,0.0))\n",
        "    payoff = f(lattice)[0:t+1,0:t+1]\n",
        "    for i in range(t-1,-1,-1):\n",
        "        for j in range(i+1):\n",
        "            payoff[i,j]=(q*payoff[i+1,j+1]+(1-q)*payoff[i+1,j])/(1+rate_tree[i,j])\n",
        "    return payoff[0,0]*notional_principal"
      ],
      "execution_count": 23,
      "outputs": []
    },
    {
      "cell_type": "code",
      "metadata": {
        "id": "yc5RpnggPiWI",
        "outputId": "57e37f2c-1807-42bf-bc73-dfd993a4acbd",
        "colab": {
          "base_uri": "https://localhost:8080/",
          "height": 52
        }
      },
      "source": [
        "K = 0\n",
        "pcp1 = 1000000\n",
        "N=5\n",
        "rf = 0.045\n",
        "\n",
        "n= 10 #10 period\n",
        "r00= 0.05\n",
        "qu=1.1\n",
        "qd=0.9\n",
        "q=.5\n",
        "face_value=100.0\n",
        "\n",
        "# Swaption(n, N, pcp1, K, r00, rf, qu, qd, rp=1, start=0)\n",
        "# Swaption(n, N_swap=5, pcp1=1000000.0, K = 0.0, r00, rf=0.045, qu, qd, rp=1, start=1)\n",
        "print('Swaption pricd is\\n', swaption_price(n,r00,qu,qd,q=.5,\n",
        "                  notional_principal = 1000000.0,fixed_rate = 0.045,t=5,K=0.0))"
      ],
      "execution_count": 24,
      "outputs": [
        {
          "output_type": "stream",
          "text": [
            "Swaption pricd is\n",
            " 26311.079490192285\n"
          ],
          "name": "stdout"
        }
      ]
    }
  ]
}