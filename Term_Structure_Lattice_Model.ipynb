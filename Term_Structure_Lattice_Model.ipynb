{
  "nbformat": 4,
  "nbformat_minor": 0,
  "metadata": {
    "colab": {
      "name": "Term-Structure-Lattice-Model.ipynb",
      "provenance": [],
      "collapsed_sections": [],
      "authorship_tag": "ABX9TyN7V11AWVe4jFkJ6BYhSHr3",
      "include_colab_link": true
    },
    "kernelspec": {
      "name": "python3",
      "display_name": "Python 3"
    }
  },
  "cells": [
    {
      "cell_type": "markdown",
      "metadata": {
        "id": "view-in-github",
        "colab_type": "text"
      },
      "source": [
        "<a href=\"https://colab.research.google.com/github/pmondal0402/FinancialEngineering/blob/master/Term_Structure_Lattice_Model.ipynb\" target=\"_parent\"><img src=\"https://colab.research.google.com/assets/colab-badge.svg\" alt=\"Open In Colab\"/></a>"
      ]
    },
    {
      "cell_type": "code",
      "metadata": {
        "id": "ktgGkU8MAoSF"
      },
      "source": [
        "# Week 5 \n",
        "# Author : P. Mondal\n",
        "# Date : Oct 20, 2020"
      ],
      "execution_count": null,
      "outputs": []
    },
    {
      "cell_type": "code",
      "metadata": {
        "id": "wyihxYjgE5HV"
      },
      "source": [
        "import numpy as np"
      ],
      "execution_count": 5,
      "outputs": []
    },
    {
      "cell_type": "code",
      "metadata": {
        "id": "7Y4cwa8zA0u6"
      },
      "source": [
        "# Function to get short rate tree\n",
        "def ShortRateTree(r00, qu, qd, n):\n",
        "    shortRtree = np.zeros((n+1, n+1))\n",
        "    \n",
        "    # Setting r00 at i = 0 and j = 0\n",
        "    shortRtree[0, 0] = r00\n",
        "    for i in range(1, n+1):\n",
        "      shortRtree[i, 0] = qd*shortRtree[i-1, 0] # ???? the code sol used qu \n",
        "      for j in range(1, n+1):\n",
        "        shortRtree[i, j] = qu*shortRtree[i-1, j-1]\n",
        "    return shortRtree\n",
        "\n"
      ],
      "execution_count": 6,
      "outputs": []
    },
    {
      "cell_type": "code",
      "metadata": {
        "id": "h3bjoXntEitL",
        "outputId": "f3c74838-2e0e-40d6-c3d8-f34bd93b8986",
        "colab": {
          "base_uri": "https://localhost:8080/",
          "height": 121
        }
      },
      "source": [
        "# Reproduced shortrate tree from class slides\n",
        "test_shorttree = ShortRateTree(6, 1.25, 0.9, 5)\n",
        "print(test_shorttree)"
      ],
      "execution_count": 7,
      "outputs": [
        {
          "output_type": "stream",
          "text": [
            "[[ 6.          0.          0.          0.          0.          0.        ]\n",
            " [ 5.4         7.5         0.          0.          0.          0.        ]\n",
            " [ 4.86        6.75        9.375       0.          0.          0.        ]\n",
            " [ 4.374       6.075       8.4375     11.71875     0.          0.        ]\n",
            " [ 3.9366      5.4675      7.59375    10.546875   14.6484375   0.        ]\n",
            " [ 3.54294     4.92075     6.834375    9.4921875  13.18359375 18.31054688]]\n"
          ],
          "name": "stdout"
        }
      ]
    },
    {
      "cell_type": "code",
      "metadata": {
        "id": "XA2Tm6_aE21b"
      },
      "source": [
        "# Function to generate bond tree\n",
        "def bondtree(bondMtry, r00, F, qu, qd, n):\n",
        "  \"\"\"Generates zero coupon bond tree\"\"\"\n",
        "  q1 = q2 = 0.5 # Not sure \n",
        "  # Get shortrate tree corresponding to r00, qu, qd, n\n",
        "  shortrT = ShortRateTree(r00, qu, qd, n)\n",
        "  # print(\"shortT is\\n\", shortrT)\n",
        "\n",
        "  bondT = np.zeros((bondMtry+1, bondMtry+1))\n",
        "  # Generate bond tree : Going backward here\n",
        "  for j in range(bondMtry+1):\n",
        "    # At maturity all node states are set to facevalue\n",
        "    bondT[bondMtry, j] = F\n",
        "  # print(bondT)\n",
        "\n",
        "  for i in range(bondMtry-1, -1, -1):\n",
        "    for j in range(i+1):\n",
        "      # Each i^th time has j = i + 1 nodes\n",
        "      # print(i, j, bondT[i, j])\n",
        "      bondT[i, j] = (1/(1+shortrT[i, j]))*(q1*bondT[i+1, j+1]\n",
        "                                         + q2*bondT[i+1, j])\n",
        "  return bondT\n"
      ],
      "execution_count": 8,
      "outputs": []
    },
    {
      "cell_type": "code",
      "metadata": {
        "id": "poXGR51yJaTl"
      },
      "source": [
        "bondMtry = 4 # Bond maturity time\n",
        "r00 = 6/100 # spot intereat rate at i = 0, j = 0\n",
        "F = 100 # Facevalue \n",
        "qu = 1.25 # short interest rate up\n",
        "qd = 0.9 # short interest rate down\n",
        "n = 7 # number o short rate periods\n",
        "bnd_tree = bondtree(bondMtry, r00, F, qu, qd, n)"
      ],
      "execution_count": 9,
      "outputs": []
    },
    {
      "cell_type": "code",
      "metadata": {
        "id": "Sn6o31m9JtvN",
        "outputId": "52f2007f-f657-4ba4-e04d-ca4b2845c532",
        "colab": {
          "base_uri": "https://localhost:8080/",
          "height": 34
        }
      },
      "source": [
        "print(\"Zero coupon price is \", bnd_tree[0, 0])"
      ],
      "execution_count": 10,
      "outputs": [
        {
          "output_type": "stream",
          "text": [
            "Zero coupon price is  77.217740328716\n"
          ],
          "name": "stdout"
        }
      ]
    },
    {
      "cell_type": "code",
      "metadata": {
        "id": "bF4vdURfN2TN"
      },
      "source": [
        "# --------\n",
        "# Quiz 1 :\n",
        "# --------\n",
        "bondMtry = 10\n",
        "r00 = 5/100\n",
        "F = 100 \n",
        "qu = 1.1\n",
        "qd = 0.9\n",
        "n = bondMtry + 2 # Getting shortrate tree for two more bond periods\n",
        "bnd_tree_q1 = bondtree(bondMtry, r00, F, qu, qd, n)"
      ],
      "execution_count": 11,
      "outputs": []
    },
    {
      "cell_type": "code",
      "metadata": {
        "id": "GNImYiniQ5h2",
        "outputId": "91e9a33f-1965-450c-c436-29fcc8c0adbe",
        "colab": {
          "base_uri": "https://localhost:8080/",
          "height": 34
        }
      },
      "source": [
        "print(\"Zero coupon price is \", bnd_tree_q1[0, 0])"
      ],
      "execution_count": 12,
      "outputs": [
        {
          "output_type": "stream",
          "text": [
            "Zero coupon price is  61.62195811754156\n"
          ],
          "name": "stdout"
        }
      ]
    },
    {
      "cell_type": "code",
      "metadata": {
        "id": "O4hn1Ax8dUfz"
      },
      "source": [
        "# ------\n",
        "# Quiz 2\n",
        "# ------\n",
        "def bondForwrd(N, r00, qu, qd, F, bondMtry):\n",
        "  \"\"\"Looks like is the the ratio of price of considering bond maturity \n",
        "     and derivative maturity \n",
        "  \"\"\"\n",
        "  down = bondtree(N, r00, 1, qu, qd, n)\n",
        "  up = bondtree(bondMtry, r00, F, qu, qd, n)\n",
        "  return up[0, 0]/down[0, 0]"
      ],
      "execution_count": 13,
      "outputs": []
    },
    {
      "cell_type": "code",
      "metadata": {
        "id": "Zjcf0g3Ueyca",
        "outputId": "0c28f3fc-c67c-4128-de5f-ec9f9d28d9bf",
        "colab": {
          "base_uri": "https://localhost:8080/",
          "height": 52
        }
      },
      "source": [
        "N = 4 # \n",
        "print(\"Price of Forward at t=0 :\\n\", bondForwrd(N, r00, qu, qd, F, bondMtry))"
      ],
      "execution_count": 15,
      "outputs": [
        {
          "output_type": "stream",
          "text": [
            "Price of Forward at t=0 :\n",
            " 74.88484493844841\n"
          ],
          "name": "stdout"
        }
      ]
    },
    {
      "cell_type": "code",
      "metadata": {
        "id": "I-Gv2iNpRA9R"
      },
      "source": [
        ""
      ],
      "execution_count": null,
      "outputs": []
    }
  ]
}