{
  "nbformat": 4,
  "nbformat_minor": 0,
  "metadata": {
    "colab": {
      "name": "Term-Structure-Lattice-Model.ipynb",
      "provenance": [],
      "collapsed_sections": [],
      "authorship_tag": "ABX9TyNKz36EI72TzidEP5l7rXEA",
      "include_colab_link": true
    },
    "kernelspec": {
      "name": "python3",
      "display_name": "Python 3"
    }
  },
  "cells": [
    {
      "cell_type": "markdown",
      "metadata": {
        "id": "view-in-github",
        "colab_type": "text"
      },
      "source": [
        "<a href=\"https://colab.research.google.com/github/pmondal0402/FinancialEngineering/blob/master/Term_Structure_Lattice_Model.ipynb\" target=\"_parent\"><img src=\"https://colab.research.google.com/assets/colab-badge.svg\" alt=\"Open In Colab\"/></a>"
      ]
    },
    {
      "cell_type": "code",
      "metadata": {
        "id": "ktgGkU8MAoSF"
      },
      "source": [
        "# Week 5 \n",
        "# Author : P. Mondal\n",
        "# Date : Oct 20, 2020"
      ],
      "execution_count": null,
      "outputs": []
    },
    {
      "cell_type": "code",
      "metadata": {
        "id": "wyihxYjgE5HV"
      },
      "source": [
        "import numpy as np"
      ],
      "execution_count": 1,
      "outputs": []
    },
    {
      "cell_type": "code",
      "metadata": {
        "id": "7Y4cwa8zA0u6"
      },
      "source": [
        "# Function to get short rate tree\n",
        "def ShortRateTree(r00, qu, qd, n):\n",
        "    shortRtree = np.zeros((n+1, n+1))\n",
        "    \n",
        "    # Setting r00 at i = 0 and j = 0\n",
        "    shortRtree[0, 0] = r00\n",
        "    for i in range(1, n+1):\n",
        "      shortRtree[i, 0] = qd*shortRtree[i-1, 0] # ???? the code sol used qu \n",
        "      for j in range(1, n+1):\n",
        "        shortRtree[i, j] = qu*shortRtree[i-1, j-1]\n",
        "    return shortRtree\n",
        "\n"
      ],
      "execution_count": 2,
      "outputs": []
    },
    {
      "cell_type": "code",
      "metadata": {
        "id": "h3bjoXntEitL",
        "outputId": "1dc23e1c-8153-408c-ba1b-b205b3538d1d",
        "colab": {
          "base_uri": "https://localhost:8080/",
          "height": 121
        }
      },
      "source": [
        "# Reproduced shortrate tree from class slides\n",
        "test_shorttree = ShortRateTree(6, 1.25, 0.9, 5)\n",
        "print(test_shorttree)"
      ],
      "execution_count": 7,
      "outputs": [
        {
          "output_type": "stream",
          "text": [
            "[[ 6.          0.          0.          0.          0.          0.        ]\n",
            " [ 5.4         7.5         0.          0.          0.          0.        ]\n",
            " [ 4.86        6.75        9.375       0.          0.          0.        ]\n",
            " [ 4.374       6.075       8.4375     11.71875     0.          0.        ]\n",
            " [ 3.9366      5.4675      7.59375    10.546875   14.6484375   0.        ]\n",
            " [ 3.54294     4.92075     6.834375    9.4921875  13.18359375 18.31054688]]\n"
          ],
          "name": "stdout"
        }
      ]
    },
    {
      "cell_type": "code",
      "metadata": {
        "id": "XA2Tm6_aE21b"
      },
      "source": [
        "# Function to generate bond tree\n",
        "def bondtree(bondMtry, r00, F, qu, qd, n):\n",
        "  \"\"\"Generates zero coupon bond tree\"\"\"\n",
        "  q1 = q2 = 0.5 # Not sure \n",
        "  # Get shortrate tree corresponding to r00, qu, qd, n\n",
        "  shortrT = ShortRateTree(r00, qu, qd, n)\n",
        "  # print(\"shortT is\\n\", shortrT)\n",
        "\n",
        "  bondT = np.zeros((bondMtry+1, bondMtry+1))\n",
        "  # Generate bond tree : Going backward here\n",
        "  for j in range(bondMtry+1):\n",
        "    # At maturity all node states are set to facevalue\n",
        "    bondT[bondMtry, j] = F\n",
        "  # print(bondT)\n",
        "\n",
        "  for i in range(bondMtry-1, -1, -1):\n",
        "    for j in range(i+1):\n",
        "      # Each i^th time has j = i + 1 nodes\n",
        "      # print(i, j, bondT[i, j])\n",
        "      bondT[i, j] = (1/(1+shortrT[i, j]))*(q1*bondT[i+1, j+1]\n",
        "                                         + q2*bondT[i+1, j])\n",
        "  return bondT\n"
      ],
      "execution_count": 4,
      "outputs": []
    },
    {
      "cell_type": "code",
      "metadata": {
        "id": "poXGR51yJaTl"
      },
      "source": [
        "bondMtry = 4 # Bond maturity time\n",
        "r00 = 6/100 # spot intereat rate at i = 0, j = 0\n",
        "F = 100 # Facevalue \n",
        "qu = 1.25 # short interest rate up\n",
        "qd = 0.9 # short interest rate down\n",
        "n = 7 # number o short rate periods\n",
        "bnd_tree = bondtree(bondMtry, r00, F, qu, qd, n)"
      ],
      "execution_count": 5,
      "outputs": []
    },
    {
      "cell_type": "code",
      "metadata": {
        "id": "Sn6o31m9JtvN",
        "outputId": "c7e9cbce-011e-4b7c-d1bf-d66d478c62fa",
        "colab": {
          "base_uri": "https://localhost:8080/",
          "height": 34
        }
      },
      "source": [
        "print(\"Zero coupon price is \", bnd_tree[0, 0])"
      ],
      "execution_count": 6,
      "outputs": [
        {
          "output_type": "stream",
          "text": [
            "Zero coupon price is  77.217740328716\n"
          ],
          "name": "stdout"
        }
      ]
    },
    {
      "cell_type": "code",
      "metadata": {
        "id": "TNDVuxy4SS7u"
      },
      "source": [
        "# American call option on the same ZCB \n",
        "def bondOpAm(r00, qu, qd, F, n, bondMtry, K, N, cp):\n",
        "  # cp : +1/-1 with regards to call/put\n",
        "\n",
        "  q1 = q2 = 0.5\n",
        "  # Short rate tree\n",
        "  shortrT = ShortRateTree(r00, qu, qd, n)\n",
        "  f = np.vectorize(lambda x:max(float(x) - float(K), 0.))\n",
        "  bond_Tr = bondtree(bondMtry, r00, F, qu, qd, n)\n",
        "\n",
        "  payoff = f(bond_Tr)\n",
        "  option_Tr = np.zeros((N+1, N+1))\n",
        "  # print(\"short tree\\n\", shortrT)\n",
        "\n",
        "  # Compute the option tree\n",
        "  flag = 0\n",
        "  list = []\n",
        "   # Pay off at t = N \n",
        "  for j in range(N+1):\n",
        "    option_Tr[N, j] = max(0, cp*(bond_Tr[N, j]-K))\n",
        "\n",
        "  for i in range(N-1, -1, -1):\n",
        "    for j in range(i+1):\n",
        "      # print('bnvv', i, j, payoff[i, j], payoff[i+1, j], payoff[i+1, j+1], q1,shortrT[i, j] )\n",
        "      option_Tr[i, j] = max((q1*option_Tr[i+1, j] + q2*option_Tr[i+1, j+1])\n",
        "                            *1/(1+shortrT[i, j]), \n",
        "                             cp*(bond_Tr[i, j]-K ))\n",
        "      \n",
        "      # Early exercise\n",
        "      if (option_Tr[i, j] - cp*(bond_Tr[i, j]-K)) < 1e-10:\n",
        "        flag +=1\n",
        "        list.append(i)\n",
        "\n",
        "  when = N\n",
        "  if flag:\n",
        "    when = list[-1]\n",
        "  # print('Option tree\\n', payoff)\n",
        "  return (option_Tr[0, 0], when)"
      ],
      "execution_count": 107,
      "outputs": []
    },
    {
      "cell_type": "code",
      "metadata": {
        "id": "lgRK9NrNr4x0",
        "outputId": "061a3ab3-1cd7-4031-de0e-1d5f6735b398",
        "colab": {
          "base_uri": "https://localhost:8080/",
          "height": 34
        }
      },
      "source": [
        ""
      ],
      "execution_count": 108,
      "outputs": [
        {
          "output_type": "stream",
          "text": [
            "American call option is  (2.35721516382906, 6)\n"
          ],
          "name": "stdout"
        }
      ]
    },
    {
      "cell_type": "code",
      "metadata": {
        "id": "wXYgK4a2SW5v",
        "outputId": "c7569b8b-ccbe-4ea5-a38c-bf6eac503e60",
        "colab": {
          "base_uri": "https://localhost:8080/",
          "height": 52
        }
      },
      "source": [
        "cp = 1\n",
        "K = 88\n",
        "N_am = 3\n",
        "\n",
        "print('American bond put option reproduced', bondOpAm(r00, qu, qd, F, n, \n",
        "                                                      bondMtry, K, N_am, cp))"
      ],
      "execution_count": 72,
      "outputs": [
        {
          "output_type": "stream",
          "text": [
            "vbnm 0 0 0.0\n",
            "American bond put option reproduced (0.0, 3)\n"
          ],
          "name": "stdout"
        }
      ]
    },
    {
      "cell_type": "code",
      "metadata": {
        "id": "qZWYLlDhScwi"
      },
      "source": [
        ""
      ],
      "execution_count": null,
      "outputs": []
    },
    {
      "cell_type": "code",
      "metadata": {
        "id": "QVJjX4C2THOR"
      },
      "source": [
        "def bondForwrd(N, r00, qu, qd, F, bondMtry):\n",
        "  \"\"\"Looks like is the the ratio of price of considering bond maturity \n",
        "     and derivative maturity \n",
        "  \"\"\"\n",
        "  down = bondtree(N, r00, 1, qu, qd, n)\n",
        "  up = bondtree(bondMtry, r00, F, qu, qd, n)\n",
        "  # print('down is computed correctly,', down[0, 0])\n",
        "  # print('up \\n', up)\n",
        "  \n",
        "  # print(up)\n",
        "  return up[0, 0]/down[0, 0]"
      ],
      "execution_count": 116,
      "outputs": []
    },
    {
      "cell_type": "code",
      "metadata": {
        "id": "SRaLoD7ZTT7_",
        "outputId": "6c17cdab-44d6-40e1-af67-9f50febf2080",
        "colab": {
          "base_uri": "https://localhost:8080/",
          "height": 330
        }
      },
      "source": [
        "N_for = 4 # This is correct --> produced right down value\n",
        "bondMtry = 6 \n",
        "F = 110\n",
        "print(\"Price of Forward at t=0 :\\n\", bondForwrd(N_for, r00, qu, qd, F, bondMtry))"
      ],
      "execution_count": 21,
      "outputs": [
        {
          "output_type": "stream",
          "text": [
            "down is computed correctly, 0.7721774032871601\n",
            "up \n",
            " [[ 72.66818775   0.           0.           0.           0.\n",
            "    0.           0.        ]\n",
            " [ 81.32471721  72.73184082   0.           0.           0.\n",
            "    0.           0.        ]\n",
            " [ 89.08724406  82.34525982  74.02819795   0.           0.\n",
            "    0.           0.        ]\n",
            " [ 95.83662065  90.9971476   84.80998212  77.12670091   0.\n",
            "    0.           0.        ]\n",
            " [101.54130155  98.51572732  94.53472132  89.3969274   82.93304494\n",
            "    0.           0.        ]\n",
            " [106.23611808 104.84103478 102.96311463 100.4637888   97.18723037\n",
            "   92.97565002   0.        ]\n",
            " [110.         110.         110.         110.         110.\n",
            "  110.         110.        ]]\n",
            "Price of Forward at t=0 :\n",
            " 94.10815111093011\n"
          ],
          "name": "stdout"
        }
      ]
    },
    {
      "cell_type": "code",
      "metadata": {
        "id": "fJRqey1vXwec"
      },
      "source": [
        ""
      ],
      "execution_count": 23,
      "outputs": []
    },
    {
      "cell_type": "code",
      "metadata": {
        "id": "AuJM3iF5YXi8"
      },
      "source": [
        "# GenerateBondTree(n, bondMtry, face, r00, u, d):\n",
        "# me bondtree(bondMtry, r00, F, qu, qd, n)\n",
        "# ???? not matching \n",
        "\n",
        "def bondFuture(N, bondMtry, r00, F, qu, qd, n):\n",
        "  \"\"\"Computes price of future bond on ZCB\"\"\"\n",
        "  # Computte bond tree till bond maturity i.e. bondMtry\n",
        "  bond_Tr = bondtree(bondMtry, r00, F, qu, qd, n)\n",
        "\n",
        "  q1 = q2 = 0.5\n",
        "  # Compute futures tree\n",
        "  futures_Tr = np.zeros((N+1, N+1))\n",
        "  for j in range(N+1):\n",
        "    futures_Tr[N, j] = bond_Tr[N, j]\n",
        "  \n",
        "  for i in range(N-1, -1, -1):\n",
        "    for j in range(i+1):\n",
        "      futures_Tr[i, j] = q1*futures_Tr[i+1, j]\\\n",
        "                       + q2*futures_Tr[i+1, j+1]\n",
        "  print('futures price using ZCB\\n')\n",
        "  return futures_Tr[0, 0]  "
      ],
      "execution_count": 30,
      "outputs": []
    },
    {
      "cell_type": "code",
      "metadata": {
        "id": "Y0rC2VZqaKcB"
      },
      "source": [
        ""
      ],
      "execution_count": 12,
      "outputs": []
    },
    {
      "cell_type": "code",
      "metadata": {
        "id": "dYVXE8a0QIcL"
      },
      "source": [
        ""
      ],
      "execution_count": 30,
      "outputs": []
    },
    {
      "cell_type": "code",
      "metadata": {
        "id": "rVT8Odm4Jjs4"
      },
      "source": [
        "# Elementary pricing\n",
        "# What is elementary ??\n",
        "def getElementary(r00, qu, qd, n, N):\n",
        "  \"\"\"Elementary pricing\"\"\"\n",
        "  shortRTr = ShortRateTree(r00, qu, qd, n)\n",
        "  elemTr = np.zeros((N+1, N+1))\n",
        "\n",
        "  elemTr[0, 0] = 1\n",
        "  for j in range(1, N+1):\n",
        "    elemTr[j, j] = 0.5/(1+shortRTr[j-1, j-1])*elemTr[j-1, j-1]\n",
        "  for i in range(1, N+1):\n",
        "    elemTr[i, 0] = 0.5/(1+shortRTr[i-1, 0])*elemTr[i-1, 0] \n",
        "  for i in range(2, N+1):\n",
        "    for j in range(1, i):\n",
        "      elemTr[i, j] = 0.5/(1+shortRTr[i-1, j])*elemTr[i-1, j] + \\\n",
        "                    0.5/(1+shortRTr[i-1, j-1])*elemTr[i-1, j-1]\n",
        "  return elemTr\n",
        "  # Note : Look up the recursive formula used here ????\n"
      ],
      "execution_count": 37,
      "outputs": []
    },
    {
      "cell_type": "code",
      "metadata": {
        "id": "o-BfvsjDV2Ea",
        "outputId": "eb5244e6-e9c2-437d-9a45-952678047e88",
        "colab": {
          "base_uri": "https://localhost:8080/",
          "height": 260
        }
      },
      "source": [
        "N_elm = 6\n",
        "print(getElementary(r00, qu, qd, n, N_elm))"
      ],
      "execution_count": 42,
      "outputs": [
        {
          "output_type": "stream",
          "text": [
            "[[1.         0.         0.         0.         0.         0.\n",
            "  0.        ]\n",
            " [0.47619048 0.47619048 0.         0.         0.         0.\n",
            "  0.        ]\n",
            " [0.22784233 0.45352502 0.22568269 0.         0.         0.\n",
            "  0.        ]\n",
            " [0.10948695 0.32555413 0.32247109 0.10640391 0.         0.\n",
            "  0.        ]\n",
            " [0.05281825 0.20865288 0.30874425 0.20279191 0.04988229 0.\n",
            "  0.        ]\n",
            " [0.02557029 0.12587501 0.24746525 0.24282656 0.11890591 0.02323987\n",
            "  0.        ]\n",
            " [0.0124185  0.07316397 0.17925145 0.23370917 0.17098124 0.06653201\n",
            "  0.01075397]]\n"
          ],
          "name": "stdout"
        }
      ]
    },
    {
      "cell_type": "code",
      "metadata": {
        "id": "Ts7gglZDMFZF"
      },
      "source": [
        "def ForwardSwap(pcp1, rf, r00, qu, qd, n, rp, start):\n",
        "  \"\"\"swap/ forward swap pricing using elementary pricing\"\"\"\n",
        "  # swap last payment : n\n",
        "  # pay(receive) fixed rate rp = 1(-1)\n",
        "  # forward start time : start\n",
        "  eleTree = getElementary(r00, qu, qd, n, n)\n",
        "  shortRTr = ShortRateTree(r00, qu, qd, n)\n",
        "  # print(shortRTr)\n",
        "  sum = 0\n",
        "  for i in range(start, n):\n",
        "    for j in range(i+1):\n",
        "      sum +=rp*(shortRTr[i, j] - rf) \\\n",
        "               *1/(1+shortRTr[i, j])*eleTree[i, j]\n",
        "\n",
        "  return sum*pcp1\n"
      ],
      "execution_count": 113,
      "outputs": []
    },
    {
      "cell_type": "code",
      "metadata": {
        "id": "i_GaLd0zbZWS",
        "outputId": "9eb75850-a02a-4fe2-cf82-172568e3c805",
        "colab": {
          "base_uri": "https://localhost:8080/",
          "height": 34
        }
      },
      "source": [
        ""
      ],
      "execution_count": 50,
      "outputs": [
        {
          "output_type": "stream",
          "text": [
            "Swap option price is  31202.557639620936\n"
          ],
          "name": "stdout"
        }
      ]
    },
    {
      "cell_type": "code",
      "metadata": {
        "id": "gI5R0USKbZUo"
      },
      "source": [
        ""
      ],
      "execution_count": null,
      "outputs": []
    },
    {
      "cell_type": "code",
      "metadata": {
        "id": "03lyp0aLbZQ3"
      },
      "source": [
        ""
      ],
      "execution_count": null,
      "outputs": []
    },
    {
      "cell_type": "code",
      "metadata": {
        "id": "pkDQOkElJjey"
      },
      "source": [
        ""
      ],
      "execution_count": 4,
      "outputs": []
    },
    {
      "cell_type": "code",
      "metadata": {
        "id": "Xu_yjWCvaKJd"
      },
      "source": [
        ""
      ],
      "execution_count": 52,
      "outputs": []
    },
    {
      "cell_type": "code",
      "metadata": {
        "id": "bF4vdURfN2TN"
      },
      "source": [
        "# --------\n",
        "# Quiz 1 :\n",
        "# --------\n",
        "bondMtry = 10\n",
        "r00 = 5/100\n",
        "F = 100 \n",
        "qu = 1.1\n",
        "qd = 0.9\n",
        "n = bondMtry + 2 # Getting shortrate tree for two more bond periods\n",
        "bnd_tree_q1 = bondtree(bondMtry, r00, F, qu, qd, n)"
      ],
      "execution_count": 24,
      "outputs": []
    },
    {
      "cell_type": "code",
      "metadata": {
        "id": "GNImYiniQ5h2",
        "outputId": "72fdbead-a108-419c-8b0d-7267238061bb",
        "colab": {
          "base_uri": "https://localhost:8080/",
          "height": 34
        }
      },
      "source": [
        "print(\"Zero coupon price is \", bnd_tree_q1[0, 0])"
      ],
      "execution_count": 25,
      "outputs": [
        {
          "output_type": "stream",
          "text": [
            "Zero coupon price is  61.62195811754156\n"
          ],
          "name": "stdout"
        }
      ]
    },
    {
      "cell_type": "code",
      "metadata": {
        "id": "m-kmHyNXThW-",
        "outputId": "125c946e-58f6-434d-8f2a-ecac479466fa",
        "colab": {
          "base_uri": "https://localhost:8080/",
          "height": 34
        }
      },
      "source": [
        ""
      ],
      "execution_count": 26,
      "outputs": [
        {
          "output_type": "execute_result",
          "data": {
            "text/plain": [
              "4"
            ]
          },
          "metadata": {
            "tags": []
          },
          "execution_count": 26
        }
      ]
    },
    {
      "cell_type": "code",
      "metadata": {
        "id": "O4hn1Ax8dUfz",
        "outputId": "05d9b83a-20f0-4053-d62f-0af82fbce540",
        "colab": {
          "base_uri": "https://localhost:8080/",
          "height": 52
        }
      },
      "source": [
        "# ------\n",
        "# Quiz 2\n",
        "# ------\n",
        "N_for = 4\n",
        "print(\"Price of Forward at t=0 :\\n\", bondForwrd(N_for, r00, qu, qd, F, bondMtry))"
      ],
      "execution_count": 117,
      "outputs": [
        {
          "output_type": "stream",
          "text": [
            "Price of Forward at t=0 :\n",
            " 74.88484493844841\n"
          ],
          "name": "stdout"
        }
      ]
    },
    {
      "cell_type": "code",
      "metadata": {
        "id": "Zjcf0g3Ueyca"
      },
      "source": [
        ""
      ],
      "execution_count": 28,
      "outputs": []
    },
    {
      "cell_type": "code",
      "metadata": {
        "id": "I-Gv2iNpRA9R",
        "outputId": "9b415896-8ba6-4761-de2c-4888124c4a79",
        "colab": {
          "base_uri": "https://localhost:8080/",
          "height": 86
        }
      },
      "source": [
        "# ------\n",
        "# Quiz 3\n",
        "# ------\n",
        "N_fut = 4\n",
        "# bondFuture(N, bondMtry, r00, F, qu, qd, n)\n",
        "print(\"Price of Forward at t=0 :\\n\", bondFuture(N_fut, bondMtry, r00, F, qu, qd, n))"
      ],
      "execution_count": 54,
      "outputs": [
        {
          "output_type": "stream",
          "text": [
            "futures price using ZCB\n",
            "\n",
            "Price of Forward at t=0 :\n",
            " 74.82458063139569\n"
          ],
          "name": "stdout"
        }
      ]
    },
    {
      "cell_type": "code",
      "metadata": {
        "id": "vaRlQX-VSKgs",
        "outputId": "b93566ee-f1e7-45f2-c3b4-5ce0f9cb86ab",
        "colab": {
          "base_uri": "https://localhost:8080/",
          "height": 34
        }
      },
      "source": [
        "# ------\n",
        "# Quiz 4\n",
        "# ------\n",
        "cp = 1 # call option\n",
        "K = 80\n",
        "N_bond = 6 \n",
        "print(\"American call option is \", bondOpAm(r00, qu, qd, F, n, bondMtry, K, N_bond, cp))\n"
      ],
      "execution_count": 109,
      "outputs": [
        {
          "output_type": "stream",
          "text": [
            "American call option is  (2.35721516382906, 6)\n"
          ],
          "name": "stdout"
        }
      ]
    },
    {
      "cell_type": "code",
      "metadata": {
        "id": "SOzddoUxSOwl",
        "outputId": "0be85265-c432-4cb2-d940-c18d70a1d514",
        "colab": {
          "base_uri": "https://localhost:8080/",
          "height": 34
        }
      },
      "source": [
        "# ------\n",
        "# Quiz 5\n",
        "# ------\n",
        "# TODO ????\n",
        "rf = 0.045\n",
        "start = 1\n",
        "pcp1 = 10**6\n",
        "n = 10\n",
        "rp = 1 # pay\n",
        "print(\"Swap option price is \",ForwardSwap(pcp1, rf, r00, qu, qd, n, rp, start))\n"
      ],
      "execution_count": 115,
      "outputs": [
        {
          "output_type": "stream",
          "text": [
            "Swap option price is  31202.557639620936\n"
          ],
          "name": "stdout"
        }
      ]
    },
    {
      "cell_type": "code",
      "metadata": {
        "id": "mxNZAdnfZ4Ic"
      },
      "source": [
        ""
      ],
      "execution_count": null,
      "outputs": []
    }
  ]
}