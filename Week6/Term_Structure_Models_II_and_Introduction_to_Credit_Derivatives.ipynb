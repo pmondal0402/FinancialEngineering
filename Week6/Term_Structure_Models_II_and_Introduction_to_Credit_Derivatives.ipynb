{
  "nbformat": 4,
  "nbformat_minor": 0,
  "metadata": {
    "colab": {
      "name": "Term Structure Models II and Introduction to Credit Derivatives.ipynb",
      "provenance": [],
      "collapsed_sections": []
    },
    "kernelspec": {
      "name": "python3",
      "display_name": "Python 3"
    }
  },
  "cells": [
    {
      "cell_type": "code",
      "metadata": {
        "id": "u1pGkYJMPBRD"
      },
      "source": [
        "import math\n",
        "import scipy.optimize\n",
        "import time"
      ],
      "execution_count": 1,
      "outputs": []
    },
    {
      "cell_type": "code",
      "metadata": {
        "id": "gQfTlNfF6fIv"
      },
      "source": [
        "numPeriods = 10 # total number of periods\n",
        "marketSpotRates = [3.0, 3.1, 3.2, 3.3, 3.4, 3.5, 3.55, 3.6, 3.65, 3.7]\n",
        "driftParams = [5.]*len(marketSpotRates)\n",
        "volatilityParam = 0.05\n",
        "upMoveParam = 0.5\n",
        "facevalue = 1 # 100 ????\n",
        "maxIterations = 200\n",
        "\n"
      ],
      "execution_count": 2,
      "outputs": []
    },
    {
      "cell_type": "code",
      "metadata": {
        "id": "R8EG0y4IP3Qb"
      },
      "source": [
        "\n",
        "\n",
        "class Lattice:\n",
        "    def printLattice(self):\n",
        "        for t, level in enumerate(self.lattice):\n",
        "            print('level {0}'.format(t))\n",
        "            level = [ round(elem, 3) for elem in level ]\n",
        "            print(', '.join(map(str, level)))\n",
        "\n"
      ],
      "execution_count": 29,
      "outputs": []
    },
    {
      "cell_type": "code",
      "metadata": {
        "id": "Pw6-mJ4LNO3v"
      },
      "source": [
        "class CalibratedRateLattice(Lattice):\n",
        "  def __init__(self, dP, vP, q):\n",
        "    \"\"\"\n",
        "    dP --> a\n",
        "    vP --> b\n",
        "    \"\"\"\n",
        "    self.lattice = []\n",
        "    self.lattice.append([dP[0]])\n",
        "    for i in range(1, len(dP)):\n",
        "      level = []\n",
        "      for j in range(i+1):\n",
        "        rate = dP[i]*math.exp(vP*j)\n",
        "        level.append(rate)\n",
        "      self.lattice.append(level)\n",
        "    # print('Lattice is', self.lattice)\n"
      ],
      "execution_count": 4,
      "outputs": []
    },
    {
      "cell_type": "code",
      "metadata": {
        "id": "McMEWtayRKgB"
      },
      "source": [
        "\n",
        "class EPLattice(Lattice):\n",
        "    def __init__(self, F, rateLattice):\n",
        "        self.lattice = []\n",
        "        for i in range(len(rateLattice)+1):\n",
        "            newLevel = []\n",
        "            if i == 0:\n",
        "                newLevel.append(F)\n",
        "            else:\n",
        "                level = rateLattice[i-1]\n",
        "                for j in range(len(level)+1):\n",
        "                    if j == 0:\n",
        "                        discount = 1.+level[j]/100. # Interest rate \n",
        "                        price = .5*leftLevel[j]/discount\n",
        "                    elif j == len(level):\n",
        "                        discount = 1.+level[j-1]/100.\n",
        "                        price = .5*leftLevel[j-1]/discount\n",
        "                    else:\n",
        "                        discount = 1.+level[j]/100.\n",
        "                        price = .5*leftLevel[j]/discount\n",
        "                        discount = 1.+level[j-1]/100.\n",
        "                        price += .5*leftLevel[j-1]/discount\n",
        "                    newLevel.append(price)\n",
        "\n",
        "            leftLevel = newLevel\n",
        "            # print('leftlevel is', i, leftLevel)\n",
        "            self.lattice.append(newLevel)\n",
        "    \n",
        "    def getZCBPrices(self):\n",
        "        return [sum(arr) for arr in self.lattice]\n",
        "    \n",
        "    def getSpotRates(self):\n",
        "        zcbPrices= self.getZCBPrices()\n",
        "        return [100.*((1./price)**(1./i)-1) for i, price in enumerate(zcbPrices) if i>0]"
      ],
      "execution_count": 5,
      "outputs": []
    },
    {
      "cell_type": "code",
      "metadata": {
        "id": "JPtTJQ4tQuKD"
      },
      "source": [
        "def G(x):\n",
        "  rL = CalibratedRateLattice(x, volatilityParam, upMoveChance)\n",
        "  epL = EPLattice(facevalue, rL.lattice[:])\n",
        "  return [a-b for a, b in zip(epL.getSpotRates(), marketSpotRates)]"
      ],
      "execution_count": 6,
      "outputs": []
    },
    {
      "cell_type": "code",
      "metadata": {
        "id": "NM7q4n1-OQI5",
        "outputId": "79b305f0-0c29-4467-abb6-4ee7834fa487",
        "colab": {
          "base_uri": "https://localhost:8080/"
        }
      },
      "source": [
        "driftParams = [5]*14\n",
        "volatilityParam = 0.005\n",
        "upMoveChance = 0.5\n",
        "rL = CalibratedRateLattice(driftParams, volatilityParam, upMoveChance)\n",
        "\n",
        "facevalue = 1\n",
        "print('spot rate lattice for 4 periods\\n')\n",
        "rL.lattice[0:4]\n",
        "epL = EPLattice(facevalue, rL.lattice[:])\n",
        "modelZCBPrices = epL.getZCBPrices()\n",
        "modelSpotRates = epL.getSpotRates()\n",
        "# print('epL is',  rL.lattice[0:3])\n",
        "marketSpotRates = [7.3,7.62,8.1,8.45,9.2,9.64,10.12,10.45,10.75,11.22,11.55,\n",
        "                                                            11.92,12.2,12.32]\n",
        "print('spot rate squared error\\n')\n",
        "print(sum(i*i for i in G(driftParams)))\n",
        "\n",
        "start_time = time.time()\n",
        "maxIterations = 200\n",
        "# Optimizing driftParams\n",
        "driftParams = scipy.optimize.broyden1(G, driftParams, iter = maxIterations)\n",
        "elapsedTime = time.time() - start_time\n",
        "\n",
        "print(str(maxIterations) + \" number of iterations used for otimization\")\n",
        "print(sum(i*i for i in G(driftParams)))"
      ],
      "execution_count": 7,
      "outputs": [
        {
          "output_type": "stream",
          "text": [
            "spot rate lattice for 4 periods\n",
            "\n",
            "spot rate squared error\n",
            "\n",
            "389.7698460708499\n",
            "200 number of iterations used for otimization\n",
            "5.842770387541903e-07\n"
          ],
          "name": "stdout"
        },
        {
          "output_type": "stream",
          "text": [
            "/usr/local/lib/python3.6/dist-packages/ipykernel_launcher.py:34: RuntimeWarning: invalid value encountered in double_scalars\n",
            "/usr/local/lib/python3.6/dist-packages/scipy/optimize/nonlin.py:1004: RuntimeWarning: invalid value encountered in true_divide\n",
            "  d = v / vdot(df, v)\n"
          ],
          "name": "stderr"
        }
      ]
    },
    {
      "cell_type": "code",
      "metadata": {
        "id": "LpUn3iyp6I1y"
      },
      "source": [
        "\n",
        "\n",
        "class OptionLattice(Lattice):\n",
        "    def __init__(self, n, q, K, isCall, isAmerican, rateLattice, baseLattice):\n",
        "        multiplier = 1 if isCall else -1\n",
        "        clippedBase = baseLattice[:n+1]\n",
        "        clippedRate = rateLattice[:n+1]\n",
        "        self.lattice = []\n",
        "        rightLevel = []\n",
        "        print(\"Calculating options\")\n",
        "        for i, level in enumerate(reversed(clippedBase)):\n",
        "            newLevel = []\n",
        "            if i == 0:\n",
        "                for j in range(len(level)):\n",
        "                    newLevel.append(max(multiplier * (level[j]-K), 0))\n",
        "            else:\n",
        "                for j in range(len(level)):\n",
        "                    earlyExercise = max(multiplier * (level[j]-K), 0)\n",
        "                    discount = 1.+clippedRate[n-i][j]/100.\n",
        "                    hold = (q*rightLevel[j+1] + (1-q)*rightLevel[j])/discount\n",
        "                    if earlyExercise > hold and isAmerican:\n",
        "                        print(\"At time {0}, it's better to early exercise {1} than hold {2}\".format(n-i, earlyExercise, hold))\n",
        "                    newPrice = max(hold, earlyExercise) if isAmerican else hold\n",
        "                    newLevel.append(newPrice)\n",
        "            rightLevel = newLevel\n",
        "            self.lattice.insert(0, newLevel)\n",
        "\n"
      ],
      "execution_count": 8,
      "outputs": []
    },
    {
      "cell_type": "code",
      "metadata": {
        "id": "K19J9cD-8v5d"
      },
      "source": [
        "class SwapLattice(Lattice):\n",
        "    def __init__(self, q, n, rf, firstPaymentTime, payFixed, rateLattice):\n",
        "        clippedRate = rateLattice[:n+1]\n",
        "        self.lattice = []\n",
        "        rightLevel = []\n",
        "        print(\"Calculating swaps\")\n",
        "        for i, level in enumerate(reversed(clippedRate)):\n",
        "            newLevel = []\n",
        "            if i == 0:\n",
        "                for j in range(len(level)):\n",
        "                    spotRate = clippedRate[n-i-1][j]/100.\n",
        "                    payment = spotRate-rf if payFixed else rf-spotRate\n",
        "                    newPrice = payment/(1+spotRate)\n",
        "                    newLevel.append(newPrice)\n",
        "            else:\n",
        "                for j in range(len(level)):\n",
        "                    spotRate = clippedRate[n-i-1][j]/100.\n",
        "                    newPrice = (q*rightLevel[j+1]+(1-q)*rightLevel[j])/(1.+spotRate)\n",
        "                    if n-i >= firstPaymentTime:\n",
        "                        payment = spotRate-rf if payFixed else rf-spotRate\n",
        "                        newPrice += payment/(1.+spotRate)\n",
        "                    newLevel.append(newPrice)\n",
        "            rightLevel = newLevel\n",
        "            self.lattice.insert(0, newLevel)"
      ],
      "execution_count": 9,
      "outputs": []
    },
    {
      "cell_type": "code",
      "metadata": {
        "id": "KNe400EPTIDF"
      },
      "source": [
        ""
      ],
      "execution_count": 9,
      "outputs": []
    },
    {
      "cell_type": "code",
      "metadata": {
        "id": "y65RmGGz1Asl",
        "outputId": "3c96d9b6-c4d7-47e1-ce43-38a5adf8c32e",
        "colab": {
          "base_uri": "https://localhost:8080/"
        }
      },
      "source": [
        "# Q1\n",
        "numPeriods = 10\n",
        "marketSpotRates = [3.0,3.1,3.2,3.3,3.4,3.5,3.55,3.6,3.65,3.7]\n",
        "driftParams = [5.]*len(marketSpotRates)\n",
        "volatilityParam = .05\n",
        "upMoveChance = .5\n",
        "faceValue = 1.\n",
        "maxIterations = 200\n",
        "\n",
        "print('spot rate squared error')\n",
        "print(sum(i*i for i in G(driftParams)))\n",
        "\n",
        "start_time = time.time()\n",
        "driftParams = scipy.optimize.broyden1(G, driftParams, iter=maxIterations)\n",
        "elapsed_time = time.time() - start_time\n",
        "\n",
        "print\n",
        "print(\"%.2f ms elapsed over %d iterations\" % (elapsed_time*1000, maxIterations))\n",
        "print\n",
        "print('spot rate squared error')\n",
        "print(sum(i*i for i in G(driftParams)))\n",
        "\n",
        "print\n",
        "print('rate lattice')\n",
        "rL = CalibratedRateLattice(driftParams, volatilityParam, upMoveChance)\n",
        "# rL.printLattice()\n",
        "print\n",
        "\n",
        "numPeriods = 10\n",
        "fixedRate = .039\n",
        "firstPaymentTime = 4\n",
        "paysFixed = True\n",
        "\n",
        "sL = SwapLattice(upMoveChance, numPeriods, fixedRate, firstPaymentTime, paysFixed, rL.lattice[:])\n",
        "print('swap lattice')\n",
        "print\n",
        "# sL.printLattice()\n",
        "# print\n",
        "\n",
        "numPeriods = 3\n",
        "strikePrice = 0.\n",
        "isCall = True\n",
        "isAmerican = False\n",
        "\n",
        "oL = OptionLattice(numPeriods, upMoveChance, strikePrice, isCall, isAmerican, \n",
        "                   rL.lattice[:], sL.lattice[:])\n",
        "print('option lattice on swap')\n",
        "print\n",
        "# oL.printLattice()\n",
        "# print\n",
        "print('price w/ notional of $1M')\n",
        "print(oL.lattice[0][0]*1000000)"
      ],
      "execution_count": 10,
      "outputs": [
        {
          "output_type": "stream",
          "text": [
            "spot rate squared error\n",
            "36.145391259956114\n",
            "183.14 ms elapsed over 200 iterations\n",
            "spot rate squared error\n",
            "2.091033601469336e-26\n",
            "rate lattice\n",
            "Calculating swaps\n",
            "swap lattice\n",
            "Calculating options\n",
            "option lattice on swap\n",
            "price w/ notional of $1M\n",
            "4102.117637555908\n"
          ],
          "name": "stdout"
        },
        {
          "output_type": "stream",
          "text": [
            "/usr/local/lib/python3.6/dist-packages/ipykernel_launcher.py:34: RuntimeWarning: invalid value encountered in double_scalars\n",
            "/usr/local/lib/python3.6/dist-packages/scipy/optimize/nonlin.py:1004: RuntimeWarning: invalid value encountered in true_divide\n",
            "  d = v / vdot(df, v)\n",
            "/usr/local/lib/python3.6/dist-packages/scipy/optimize/nonlin.py:1004: RuntimeWarning: divide by zero encountered in true_divide\n",
            "  d = v / vdot(df, v)\n"
          ],
          "name": "stderr"
        }
      ]
    },
    {
      "cell_type": "code",
      "metadata": {
        "id": "N1h-DDJ19hdQ",
        "outputId": "ef25711a-f386-44ee-884a-5c3056621f4c",
        "colab": {
          "base_uri": "https://localhost:8080/"
        }
      },
      "source": [
        "# Q2\n",
        "numPeriods = 10\n",
        "marketSpotRates = [3.0,3.1,3.2,3.3,3.4,3.5,3.55,3.6,3.65,3.7]\n",
        "driftParams = [5.]*len(marketSpotRates)\n",
        "volatilityParam = .1\n",
        "upMoveChance = .5\n",
        "faceValue = 1.\n",
        "maxIterations = 200\n",
        "\n",
        "print('spot rate squared error')\n",
        "print(sum(i*i for i in G(driftParams)))\n",
        "\n",
        "start_time = time.time()\n",
        "driftParams = scipy.optimize.broyden1(G, driftParams, iter=maxIterations)\n",
        "elapsed_time = time.time() - start_time\n",
        "\n",
        "print\n",
        "print(\"%.2f ms elapsed over %d iterations\" % (elapsed_time*1000, maxIterations))\n",
        "print\n",
        "print('spot rate squared error')\n",
        "print(sum(i*i for i in G(driftParams)))\n",
        "\n",
        "print\n",
        "print('rate lattice')\n",
        "rL = CalibratedRateLattice(driftParams, volatilityParam, upMoveChance)\n",
        "# rL.printLattice()\n",
        "print\n",
        "\n",
        "numPeriods = 10\n",
        "fixedRate = .039\n",
        "firstPaymentTime = 4\n",
        "paysFixed = True\n",
        "\n",
        "sL = SwapLattice(upMoveChance, numPeriods, fixedRate, firstPaymentTime, paysFixed, rL.lattice[:])\n",
        "print('swap lattice')\n",
        "print\n",
        "# sL.printLattice()\n",
        "# print\n",
        "\n",
        "numPeriods = 3\n",
        "strikePrice = 0.\n",
        "isCall = True\n",
        "isAmerican = False\n",
        "\n",
        "oL = OptionLattice(numPeriods, upMoveChance, strikePrice, isCall, isAmerican, \n",
        "                   rL.lattice[:], sL.lattice[:])\n",
        "print('option lattice on swap')\n",
        "print\n",
        "# oL.printLattice()\n",
        "# print\n",
        "print('price w/ notional of $1M')\n",
        "print(oL.lattice[0][0]*1000000)"
      ],
      "execution_count": 27,
      "outputs": [
        {
          "output_type": "stream",
          "text": [
            "spot rate squared error\n",
            "44324.72919417125\n",
            "237.96 ms elapsed over 200 iterations\n",
            "spot rate squared error\n",
            "582344.6142807448\n",
            "rate lattice\n",
            "Calculating swaps\n",
            "swap lattice\n",
            "Calculating options\n",
            "option lattice on swap\n",
            "price w/ notional of $1M\n",
            "2736.460732348142\n"
          ],
          "name": "stdout"
        },
        {
          "output_type": "stream",
          "text": [
            "/usr/local/lib/python3.6/dist-packages/ipykernel_launcher.py:34: RuntimeWarning: invalid value encountered in double_scalars\n",
            "/usr/local/lib/python3.6/dist-packages/scipy/optimize/nonlin.py:1004: RuntimeWarning: invalid value encountered in true_divide\n",
            "  d = v / vdot(df, v)\n"
          ],
          "name": "stderr"
        }
      ]
    },
    {
      "cell_type": "code",
      "metadata": {
        "id": "duKcD0Jf4dSM"
      },
      "source": [
        "class RateLattice(Lattice):    \n",
        "    def __init__(self, n, S0, u, d):\n",
        "        self.lattice = []\n",
        "        for i in range(n+1):\n",
        "            level = []\n",
        "            for j in range(i+1):\n",
        "                rate = S0 * u**j * d**(i - j)\n",
        "                level.append(rate)\n",
        "            self.lattice.append(level)"
      ],
      "execution_count": 39,
      "outputs": []
    },
    {
      "cell_type": "code",
      "metadata": {
        "id": "foazGMPm6MCr"
      },
      "source": [
        "class HazardLattice(Lattice):    \n",
        "    def __init__(self, n, a, b):\n",
        "        self.lattice = []\n",
        "        for i in range(n+1):\n",
        "            level = []\n",
        "            for j in range(i+1):\n",
        "                rate = a*b**(j-.5*i)\n",
        "                level.append(rate)\n",
        "            self.lattice.append(level)"
      ],
      "execution_count": 41,
      "outputs": []
    },
    {
      "cell_type": "code",
      "metadata": {
        "id": "bpje_ppe7L0H"
      },
      "source": [
        "class  ZCBLattice(Lattice):\n",
        "  def __init__(self, F, q, n, rateLattice, hazardLattice, \n",
        "               recoveryRate):\n",
        "    self.lattice = []\n",
        "    clippedRate = rateLattice[:n+1]\n",
        "    clippedHazard = hazardLattice[:n+1]\n",
        "    rightLevel = []\n",
        "    for i, level in enumerate(reversed(clippedRate)):\n",
        "      newLevel = []\n",
        "      if i == 0:\n",
        "        for j in range(len(level)):\n",
        "          newLevel.append(F)\n",
        "      else:\n",
        "        for j in range(len(level)):\n",
        "          # print('i and n-i are ', i, n-i)\n",
        "          discount = 1 + clippedRate[n-i][j]/100\n",
        "          hazard = clippedHazard[n-i][j]\n",
        "          nondefaultValue = (q*rightLevel[j+1]+(1.-q)*rightLevel[j])*(1.-hazard)\n",
        "          #nondefaultValue = (q*rightLevel[j+1] \n",
        "          #                   (1-q)*rightLevel[j])*(1-hazard)\n",
        "          defaultValue = hazard*recoveryRate*F\n",
        "          price = (nondefaultValue + defaultValue)/discount\n",
        "          newLevel.append(price)\n",
        "      rightLevel = newLevel\n",
        "      self.lattice.insert(0, newLevel)\n"
      ],
      "execution_count": 47,
      "outputs": []
    },
    {
      "cell_type": "code",
      "metadata": {
        "id": "W5mQHG0P_sjP",
        "outputId": "8a69a747-9c0d-49ea-eb33-112300d491f9",
        "colab": {
          "base_uri": "https://localhost:8080/"
        }
      },
      "source": [
        "# Q3.\n",
        "numPeriods = 10\n",
        "startRate = 5\n",
        "upMoveReturn = 1.1\n",
        "downMoveReturn = 0.9\n",
        "upMoveChance = 0.5\n",
        "\n",
        "rL = RateLattice(numPeriods, startRate, upMoveReturn, downMoveReturn)\n",
        "print('rate lattice\\n')\n",
        "\n",
        "\n",
        "driftParams = 0.01\n",
        "volatilityParam = 1.01\n",
        "\n",
        "hL = HazardLattice(numPeriods, driftParams, volatilityParam)\n",
        "print('hazard lattice')\n",
        "\n",
        "facevalue = 100\n",
        "recoveryRate = 0.2\n",
        "zL = ZCBLattice(facevalue, upMoveChance, numPeriods, rL.lattice[:],\n",
        "                hL.lattice[:], recoveryRate)\n",
        "print('zcb lattice')\n",
        "zL.lattice\n",
        "\n"
      ],
      "execution_count": 48,
      "outputs": [
        {
          "output_type": "stream",
          "text": [
            "rate lattice\n",
            "\n",
            "hazard lattice\n",
            "zcb lattice\n"
          ],
          "name": "stdout"
        },
        {
          "output_type": "execute_result",
          "data": {
            "text/plain": [
              "[[57.216858239429015],\n",
              " [63.033661378752626, 57.93139145235942],\n",
              " [68.59493947671312, 64.06743792132305, 59.002642014345355],\n",
              " [73.83792361896073, 69.93560612258966, 65.49626478332657, 60.51707364724876],\n",
              " [78.71996045857756,\n",
              "  75.46359101739236,\n",
              "  71.7052535935065,\n",
              "  67.41597522913108,\n",
              "  62.58655393372502],\n",
              " [83.21668031516685,\n",
              "  80.6018453229398,\n",
              "  77.54654814951435,\n",
              "  74.00732972090235,\n",
              "  69.95035300559505,\n",
              "  65.35829574923974],\n",
              " [87.31937568522555,\n",
              "  85.32166860098022,\n",
              "  82.96297936487973,\n",
              "  80.19589702297337,\n",
              "  76.97512079888132,\n",
              "  73.2618194916637,\n",
              "  69.02946871507294],\n",
              " [91.0320424973309,\n",
              "  89.61229862502474,\n",
              "  87.92124964740066,\n",
              "  85.91610470479456,\n",
              "  83.55176793611062,\n",
              "  80.7828949804018,\n",
              "  77.56703196959934,\n",
              "  73.8690237193042],\n",
              " [94.36842304668262,\n",
              "  93.47755327573573,\n",
              "  92.40866486484904,\n",
              "  91.12986585049721,\n",
              "  89.60550073954738,\n",
              "  87.79663112441395,\n",
              "  85.66204887810564,\n",
              "  83.16000867956288,\n",
              "  80.25086691522775],\n",
              " [97.3492758518275,\n",
              "  96.93243836842603,\n",
              "  96.42928459143658,\n",
              "  95.82284691353992,\n",
              "  95.0933855449,\n",
              "  94.21820044251503,\n",
              "  93.17156543102556,\n",
              "  91.92486010485341,\n",
              "  90.44699569378542,\n",
              "  88.70524799573639],\n",
              " [100, 100, 100, 100, 100, 100, 100, 100, 100, 100, 100]]"
            ]
          },
          "metadata": {
            "tags": []
          },
          "execution_count": 48
        }
      ]
    },
    {
      "cell_type": "code",
      "metadata": {
        "id": "Mh9veQOX_5Yg"
      },
      "source": [
        "# Q4 :\n",
        "\"\"\"\n",
        "Question 4\n",
        "Quiz instructions\n",
        "\n",
        "The true price of 5 different defaultable coupon paying bonds with non-zero recovery are specified in worksheet Calibration{\\tt Calibration}Calibration in the workbook Assignment5_cds.xlsx.{\\tt Assignment5\\_cds.xlsx}.Assignment5_cds.xlsx. The interest rate is r=5%r = 5\\%r=5% per annum. Calibrate the six month hazard rates A6{\\tt A6}A6 to A16{\\tt A16}A16 to by minimizing the Sum Error{\\tt Sum \\,Error}SumError ensuring that the term structure of hazard rates are non-decreasing. You can model the non-decreasing\n",
        "\n",
        "hazard rates by adding constraints of the form A6≤A7,…,A15≤A16{\\tt A6} \\leq {\\tt A7}, \\ldots, {\\tt A15} \\leq {\\tt A16}A6≤A7,…,A15≤A16. Report the hazard rate at time 000 as a percentage.\n",
        "\n",
        "\"\"\"\n",
        "# Ans. 1.87 "
      ],
      "execution_count": null,
      "outputs": []
    },
    {
      "cell_type": "code",
      "metadata": {
        "id": "ixdDiiNy57Wf",
        "outputId": "4d76c00a-ea31-4479-84a4-1762487e14c9",
        "colab": {
          "base_uri": "https://localhost:8080/",
          "height": 70
        }
      },
      "source": [
        "# Q5 :\n",
        "\"\"\"\n",
        "Modify the data on the CDS pricing{\\tt CDS \\,pricing}CDSpricing worksheet in the \n",
        "workbook bonds_and_cds.xlsx{\\tt bonds\\_and\\_cds.xlsx}bonds_and_cds.xlsx to \n",
        "compute a par spread in basis points for a 5yr CDS with notional principal \n",
        "N=10N =10N=10 million assuming that\n",
        "the expected recovery rate R=25%R = 25\\%R=25%, the 3-month hazard rate is a flat \n",
        "1%1\\%1%, and the interest rate is 5%5\\%5% per annum.\n",
        "\"\"\"\n",
        "# Ans. 301.51"
      ],
      "execution_count": 49,
      "outputs": [
        {
          "output_type": "execute_result",
          "data": {
            "application/vnd.google.colaboratory.intrinsic+json": {
              "type": "string"
            },
            "text/plain": [
              "'\\nModify the data on the CDS\\u2009pricing{\\tt CDS \\\\,pricing}CDSpricing worksheet in the \\nworkbook bonds_and_cds.xlsx{\\tt bonds\\\\_and\\\\_cds.xlsx}bonds_and_cds.xlsx to \\ncompute a par spread in basis points for a 5yr CDS with notional principal \\nN=10N =10N=10 million assuming that\\nthe expected recovery rate R=25%R = 25\\\\%R=25%, the 3-month hazard rate is a flat \\n1%1\\\\%1%, and the interest rate is 5%5\\\\%5% per annum.\\n'"
            ]
          },
          "metadata": {
            "tags": []
          },
          "execution_count": 49
        }
      ]
    },
    {
      "cell_type": "code",
      "metadata": {
        "id": "y_IuZZQ1-59O"
      },
      "source": [
        ""
      ],
      "execution_count": null,
      "outputs": []
    }
  ]
}